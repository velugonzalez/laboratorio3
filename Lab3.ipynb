{
  "nbformat": 4,
  "nbformat_minor": 0,
  "metadata": {
    "colab": {
      "name": "Lab3.ipynb",
      "provenance": []
    },
    "kernelspec": {
      "name": "python3",
      "display_name": "Python 3"
    },
    "language_info": {
      "name": "python"
    }
  },
  "cells": [
    {
      "cell_type": "markdown",
      "source": [
        "**Ejercico 1**"
      ],
      "metadata": {
        "id": "tQ2UNs8KTz7F"
      }
    },
    {
      "cell_type": "code",
      "execution_count": null,
      "metadata": {
        "id": "0wbAemd85qQz"
      },
      "outputs": [],
      "source": [
        "\n",
        "def numero(decimal):\n",
        "    binario = ''\n",
        "    while decimal // 2 != 0:\n",
        "        binario = str(decimal % 2) + binario\n",
        "        decimal = decimal // 2\n",
        "    return str(decimal) + binario"
      ]
    },
    {
      "cell_type": "code",
      "source": [
        "numero(15)"
      ],
      "metadata": {
        "colab": {
          "base_uri": "https://localhost:8080/",
          "height": 35
        },
        "id": "S4o2JKQ96N3j",
        "outputId": "c0c9c79f-51e8-49a6-93c1-04af01ee9ad2"
      },
      "execution_count": null,
      "outputs": [
        {
          "output_type": "execute_result",
          "data": {
            "application/vnd.google.colaboratory.intrinsic+json": {
              "type": "string"
            },
            "text/plain": [
              "'1111'"
            ]
          },
          "metadata": {},
          "execution_count": 4
        }
      ]
    },
    {
      "cell_type": "markdown",
      "source": [
        "**Ejercicio 2**"
      ],
      "metadata": {
        "id": "z2Qj9mQhTwHx"
      }
    },
    {
      "cell_type": "code",
      "source": [
        "def primo(a):\n",
        "    if int(a) == 1:\n",
        "      return False\n",
        "    elif int(a) == 2:\n",
        "      return True \n",
        "    else:\n",
        "      for i in range (2, a):\n",
        "        if a % i == 0:\n",
        "          return False\n",
        "      return True"
      ],
      "metadata": {
        "id": "HriCnJGD6R0T"
      },
      "execution_count": null,
      "outputs": []
    },
    {
      "cell_type": "code",
      "source": [
        "primo(43)"
      ],
      "metadata": {
        "colab": {
          "base_uri": "https://localhost:8080/"
        },
        "id": "wEa-7VkS_HPz",
        "outputId": "a01dc497-6dc1-4fa3-be29-cc90c01ccaba"
      },
      "execution_count": null,
      "outputs": [
        {
          "output_type": "execute_result",
          "data": {
            "text/plain": [
              "True"
            ]
          },
          "metadata": {},
          "execution_count": 7
        }
      ]
    },
    {
      "cell_type": "markdown",
      "source": [
        "**Ejercicio 3**"
      ],
      "metadata": {
        "id": "0HD1Rho8TqRf"
      }
    },
    {
      "cell_type": "code",
      "source": [
        "\n",
        "datos = list(int(input()) for v in range(int(input('Ingrese valores para lista: '))))\n",
        "\n",
        "suma = 0\n",
        "for i in range(0, len(datos), 1):\n",
        "  suma = (suma + datos[i])\n",
        "promedio = suma / len(datos)\n",
        "\n",
        "sumd = 0\n",
        "for j in range(0, len(datos), 1):\n",
        "  d = (datos[j] - promedio)**2\n",
        "  sumd = sumd + d\n",
        "\n",
        "var = sumd / len(datos)\n",
        "desvest = pow(var, 0.5)\n",
        "print('Desviación estándar: {}'.format(desvest))"
      ],
      "metadata": {
        "colab": {
          "base_uri": "https://localhost:8080/"
        },
        "id": "MDTkN9C0H8Fa",
        "outputId": "fa33e717-a754-41bf-8fa6-b8a828dca7c7"
      },
      "execution_count": null,
      "outputs": [
        {
          "output_type": "stream",
          "name": "stdout",
          "text": [
            "Ingrese valores para lista: 5\n",
            "1\n",
            "2\n",
            "3\n",
            "4\n",
            "5\n",
            "Desviación estándar: 1.4142135623730951\n"
          ]
        }
      ]
    },
    {
      "cell_type": "markdown",
      "source": [
        "**Ejercicio 4**"
      ],
      "metadata": {
        "id": "kKwbbE57T6Br"
      }
    },
    {
      "cell_type": "code",
      "source": [
        "arreglo = list(int(input()) for v in range(int(input('Ingrese valores para lista: '))))\n",
        "\n",
        "def burbuja(arreglo):\n",
        "  for i in range(len(arreglo)-1):\n",
        "    for indice in range(len(arreglo) -1):\n",
        "      if arreglo[indice] > arreglo[indice + 1]:\n",
        "        siguiente = arreglo[indice]\n",
        "        arreglo[indice] = arreglo[indice+1]\n",
        "        arreglo[indice+1] = siguiente\n",
        "  print(arreglo)\n",
        "  return arreglo\n",
        "\n",
        "def main():\n",
        "  burbuja(arreglo)\n",
        "\n",
        "main()"
      ],
      "metadata": {
        "id": "XuK0Gs_zT-sG",
        "colab": {
          "base_uri": "https://localhost:8080/"
        },
        "outputId": "93ab185b-76a2-4c3b-8f74-ceaac8936870"
      },
      "execution_count": 15,
      "outputs": [
        {
          "output_type": "stream",
          "name": "stdout",
          "text": [
            "Ingrese valores para lista: 5\n",
            "14\n",
            "8\n",
            "1\n",
            "9\n",
            "78\n",
            "[1, 8, 9, 14, 78]\n"
          ]
        }
      ]
    },
    {
      "cell_type": "markdown",
      "source": [
        "**Ejercico 5**"
      ],
      "metadata": {
        "id": "ur_yLhiWUfCK"
      }
    },
    {
      "cell_type": "code",
      "source": [
        "#listado = [10, 20, 40, 5, 70]\n",
        "\n",
        "listado = list(input() for v in range(int(input('Ingrese valores para lista: '))))\n",
        "listado = tuple(listado)\n",
        "union = \"\".join(listado)\n",
        "print(union)\n",
        "\n",
        "\n"
      ],
      "metadata": {
        "colab": {
          "base_uri": "https://localhost:8080/"
        },
        "id": "spAGRSm1Ui0S",
        "outputId": "ce3e2661-f386-4515-cee0-dac2bb8781a7"
      },
      "execution_count": null,
      "outputs": [
        {
          "output_type": "stream",
          "name": "stdout",
          "text": [
            "Ingrese valores para lista: 5\n",
            "10\n",
            "20\n",
            "40\n",
            "5\n",
            "70\n",
            "102040570\n"
          ]
        }
      ]
    },
    {
      "cell_type": "markdown",
      "source": [
        "1**Ejercico 6**"
      ],
      "metadata": {
        "id": "gzcYmN-5VhjX"
      }
    },
    {
      "cell_type": "code",
      "source": [
        "#listatupla = [(), (), ('X',), (\"a\",\"b\"), (\"a\",\"b\",\"c\"), (\"d\")]\n",
        "#print(listatupla)\n",
        "\n",
        "listatupla = list(tuple(input()) for v in range(int(input('Ingrese valores para lista: '))))\n",
        "print(listatupla)\n",
        "listalimpia = [t for t in listatupla if t]\n",
        "print(listalimpia)\n",
        "len(listalimpia)"
      ],
      "metadata": {
        "colab": {
          "base_uri": "https://localhost:8080/"
        },
        "id": "HrIsL2WMY3gJ",
        "outputId": "a786c088-c413-4523-a60e-a9ada122a472"
      },
      "execution_count": null,
      "outputs": [
        {
          "output_type": "stream",
          "name": "stdout",
          "text": [
            "Ingrese valores para lista: 6\n",
            "\n",
            "\n",
            "X\n",
            "ab\n",
            "abc\n",
            "d\n",
            "[(), (), ('X',), ('a', 'b'), ('a', 'b', 'c'), ('d',)]\n",
            "[('X',), ('a', 'b'), ('a', 'b', 'c'), ('d',)]\n"
          ]
        },
        {
          "output_type": "execute_result",
          "data": {
            "text/plain": [
              "4"
            ]
          },
          "metadata": {},
          "execution_count": 29
        }
      ]
    },
    {
      "cell_type": "markdown",
      "source": [
        "**Ejercico 7**"
      ],
      "metadata": {
        "id": "gY-pFEpWeNkC"
      }
    },
    {
      "cell_type": "code",
      "source": [
        "#tuplas = ((1,2,4),(4,2,6,9),(43,23,54,65,76),(90.23, 34, 67.8))\n",
        "print(\"Ingres valores de cada tupla: \")\n",
        "tuplas = list(tuple(map(int,input().split())) for r in range(int(input('# de filas: '))))\n",
        "print(f\"Tuplas: {tuplas}\")\n",
        "prom=[]\n",
        "[prom.append(sum(tupla)/len(tupla)) for tupla in tuplas]\n",
        "media = tuple(prom)\n",
        "print(\"Promedios: \", media)"
      ],
      "metadata": {
        "id": "4PDeCzSyZT35",
        "colab": {
          "base_uri": "https://localhost:8080/"
        },
        "outputId": "8a50aec9-092e-43fd-fea4-dc1f2ef083d6"
      },
      "execution_count": null,
      "outputs": [
        {
          "output_type": "stream",
          "name": "stdout",
          "text": [
            "Ingres valores de cada tupla: \n",
            "# de filas: 3\n",
            "10 10 10 12\n",
            "30 45 56 45\n",
            "81 80 39 32\n",
            "Tuplas: [(10, 10, 10, 12), (30, 45, 56, 45), (81, 80, 39, 32)]\n",
            "Promedios:  (10.5, 44.0, 58.0)\n"
          ]
        }
      ]
    }
  ]
}